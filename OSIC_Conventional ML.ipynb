{
 "cells": [
  {
   "cell_type": "code",
   "execution_count": 1,
   "metadata": {},
   "outputs": [],
   "source": [
    "import pandas as pd\n",
    "import numpy as np\n",
    "import matplotlib.pyplot as plt\n",
    "import seaborn as sns\n",
    "from sklearn.preprocessing import OrdinalEncoder\n",
    "from sklearn.preprocessing import StandardScaler\n",
    "from sklearn.model_selection import train_test_split\n",
    "from sklearn.ensemble import GradientBoostingRegressor\n",
    "from sklearn.metrics import r2_score, mean_squared_error"
   ]
  },
  {
   "cell_type": "code",
   "execution_count": 2,
   "metadata": {},
   "outputs": [],
   "source": [
    "train_df = pd.read_csv(\"C:/Users/u1363606/Downloads/OSIC/train.csv\")\n",
    "test_df = pd.read_csv(\"C:/Users/u1363606/Downloads/OSIC/test.csv\")"
   ]
  },
  {
   "cell_type": "code",
   "execution_count": 3,
   "metadata": {},
   "outputs": [
    {
     "name": "stdout",
     "output_type": "stream",
     "text": [
      "Training data shape is : 1549\n",
      "Testing data shape is : 5\n"
     ]
    }
   ],
   "source": [
    "print(\"Training data shape is :\",train_df.shape[0])\n",
    "print(\"Testing data shape is :\",test_df.shape[0])"
   ]
  },
  {
   "cell_type": "markdown",
   "metadata": {},
   "source": [
    "# Data processing "
   ]
  },
  {
   "cell_type": "code",
   "execution_count": 4,
   "metadata": {},
   "outputs": [],
   "source": [
    "#training set\n",
    "#Encoding Categorical Features:sex and smokingstatus\n",
    "df_category = OrdinalEncoder().fit_transform(train_df[['Sex', 'SmokingStatus']]) \n",
    "df_category = pd.DataFrame({'Sex': df_category[:, 0], 'SmokingStatus': df_category[:, 1]})\n",
    "\n",
    "#Numerical features: weeks, percent, and age\n",
    "df_numerical = StandardScaler().fit_transform(train_df[['Weeks', 'Percent','Age']])  \n",
    "df_numerical= pd.DataFrame({'Weeks': df_numerical[:, 0], 'Percent': df_numerical[:, 1],'Age':df_numerical[:,2]})\n",
    "\n",
    "\n",
    "# testing set\n",
    "#Encoding Categorical Features:sex and smokingstatus\n",
    "df1_category = OrdinalEncoder().fit_transform(test_df[['Sex', 'SmokingStatus']]) \n",
    "df1_category = pd.DataFrame({'Sex': df1_category[:, 0], 'SmokingStatus': df1_category[:, 1]})\n",
    "\n",
    "#Numerical features: weeks, percent, and age\n",
    "df1_numerical = StandardScaler().fit_transform(test_df[['Weeks', 'Percent','Age']])  \n",
    "df1_numerical= pd.DataFrame({'Weeks': df1_numerical[:, 0], 'Percent': df1_numerical[:, 1],'Age':df1_numerical[:,2]})"
   ]
  },
  {
   "cell_type": "code",
   "execution_count": 5,
   "metadata": {},
   "outputs": [
    {
     "data": {
      "text/html": [
       "<div>\n",
       "<style scoped>\n",
       "    .dataframe tbody tr th:only-of-type {\n",
       "        vertical-align: middle;\n",
       "    }\n",
       "\n",
       "    .dataframe tbody tr th {\n",
       "        vertical-align: top;\n",
       "    }\n",
       "\n",
       "    .dataframe thead th {\n",
       "        text-align: right;\n",
       "    }\n",
       "</style>\n",
       "<table border=\"1\" class=\"dataframe\">\n",
       "  <thead>\n",
       "    <tr style=\"text-align: right;\">\n",
       "      <th></th>\n",
       "      <th>Sex</th>\n",
       "      <th>SmokingStatus</th>\n",
       "      <th>Weeks</th>\n",
       "      <th>Percent</th>\n",
       "      <th>Age</th>\n",
       "      <th>FVC</th>\n",
       "    </tr>\n",
       "  </thead>\n",
       "  <tbody>\n",
       "    <tr>\n",
       "      <th>0</th>\n",
       "      <td>1.0</td>\n",
       "      <td>1.0</td>\n",
       "      <td>-1.543106</td>\n",
       "      <td>-0.979923</td>\n",
       "      <td>1.674174</td>\n",
       "      <td>2315</td>\n",
       "    </tr>\n",
       "    <tr>\n",
       "      <th>1</th>\n",
       "      <td>1.0</td>\n",
       "      <td>1.0</td>\n",
       "      <td>-1.155843</td>\n",
       "      <td>-1.108174</td>\n",
       "      <td>1.674174</td>\n",
       "      <td>2214</td>\n",
       "    </tr>\n",
       "    <tr>\n",
       "      <th>2</th>\n",
       "      <td>1.0</td>\n",
       "      <td>1.0</td>\n",
       "      <td>-1.069785</td>\n",
       "      <td>-1.302454</td>\n",
       "      <td>1.674174</td>\n",
       "      <td>2061</td>\n",
       "    </tr>\n",
       "    <tr>\n",
       "      <th>3</th>\n",
       "      <td>1.0</td>\n",
       "      <td>1.0</td>\n",
       "      <td>-0.983726</td>\n",
       "      <td>-1.197060</td>\n",
       "      <td>1.674174</td>\n",
       "      <td>2144</td>\n",
       "    </tr>\n",
       "    <tr>\n",
       "      <th>4</th>\n",
       "      <td>1.0</td>\n",
       "      <td>1.0</td>\n",
       "      <td>-0.897668</td>\n",
       "      <td>-1.292296</td>\n",
       "      <td>1.674174</td>\n",
       "      <td>2069</td>\n",
       "    </tr>\n",
       "    <tr>\n",
       "      <th>...</th>\n",
       "      <td>...</td>\n",
       "      <td>...</td>\n",
       "      <td>...</td>\n",
       "      <td>...</td>\n",
       "      <td>...</td>\n",
       "      <td>...</td>\n",
       "    </tr>\n",
       "    <tr>\n",
       "      <th>1544</th>\n",
       "      <td>1.0</td>\n",
       "      <td>2.0</td>\n",
       "      <td>-0.811610</td>\n",
       "      <td>-0.559020</td>\n",
       "      <td>0.823727</td>\n",
       "      <td>2712</td>\n",
       "    </tr>\n",
       "    <tr>\n",
       "      <th>1545</th>\n",
       "      <td>1.0</td>\n",
       "      <td>2.0</td>\n",
       "      <td>-0.553435</td>\n",
       "      <td>-0.229413</td>\n",
       "      <td>0.823727</td>\n",
       "      <td>2978</td>\n",
       "    </tr>\n",
       "    <tr>\n",
       "      <th>1546</th>\n",
       "      <td>1.0</td>\n",
       "      <td>2.0</td>\n",
       "      <td>-0.037085</td>\n",
       "      <td>-0.316151</td>\n",
       "      <td>0.823727</td>\n",
       "      <td>2908</td>\n",
       "    </tr>\n",
       "    <tr>\n",
       "      <th>1547</th>\n",
       "      <td>1.0</td>\n",
       "      <td>2.0</td>\n",
       "      <td>0.479266</td>\n",
       "      <td>-0.233130</td>\n",
       "      <td>0.823727</td>\n",
       "      <td>2975</td>\n",
       "    </tr>\n",
       "    <tr>\n",
       "      <th>1548</th>\n",
       "      <td>1.0</td>\n",
       "      <td>2.0</td>\n",
       "      <td>1.167732</td>\n",
       "      <td>-0.482194</td>\n",
       "      <td>0.823727</td>\n",
       "      <td>2774</td>\n",
       "    </tr>\n",
       "  </tbody>\n",
       "</table>\n",
       "<p>1549 rows × 6 columns</p>\n",
       "</div>"
      ],
      "text/plain": [
       "      Sex  SmokingStatus     Weeks   Percent       Age   FVC\n",
       "0     1.0            1.0 -1.543106 -0.979923  1.674174  2315\n",
       "1     1.0            1.0 -1.155843 -1.108174  1.674174  2214\n",
       "2     1.0            1.0 -1.069785 -1.302454  1.674174  2061\n",
       "3     1.0            1.0 -0.983726 -1.197060  1.674174  2144\n",
       "4     1.0            1.0 -0.897668 -1.292296  1.674174  2069\n",
       "...   ...            ...       ...       ...       ...   ...\n",
       "1544  1.0            2.0 -0.811610 -0.559020  0.823727  2712\n",
       "1545  1.0            2.0 -0.553435 -0.229413  0.823727  2978\n",
       "1546  1.0            2.0 -0.037085 -0.316151  0.823727  2908\n",
       "1547  1.0            2.0  0.479266 -0.233130  0.823727  2975\n",
       "1548  1.0            2.0  1.167732 -0.482194  0.823727  2774\n",
       "\n",
       "[1549 rows x 6 columns]"
      ]
     },
     "execution_count": 5,
     "metadata": {},
     "output_type": "execute_result"
    }
   ],
   "source": [
    "df = pd.concat([df_category, df_numerical, train_df['FVC']], axis = 1)\n",
    "df"
   ]
  },
  {
   "cell_type": "markdown",
   "metadata": {},
   "source": [
    "splitting data into training and testing set"
   ]
  },
  {
   "cell_type": "code",
   "execution_count": 6,
   "metadata": {},
   "outputs": [],
   "source": [
    "X = df.drop('FVC',axis =1)\n",
    "y = df['FVC']"
   ]
  },
  {
   "cell_type": "code",
   "execution_count": 7,
   "metadata": {},
   "outputs": [],
   "source": [
    "X_train, X_test, y_train, y_test = train_test_split( X, y, test_size=0.2, random_state=42)"
   ]
  },
  {
   "cell_type": "markdown",
   "metadata": {},
   "source": [
    "# Model"
   ]
  },
  {
   "cell_type": "code",
   "execution_count": 8,
   "metadata": {},
   "outputs": [],
   "source": [
    "def calcualte_metric_loss(pred_y,true_y,pred_sigma):\n",
    "        sigma_clipped=np.clip(pred_sigma,a_min=70,a_max=1000)\n",
    "        delta=np.clip(np.abs(pred_y-true_y),a_min=70,a_max=1000)\n",
    "        metric=np.divide(-np.sqrt(np.array([2.0]))*delta,sigma_clipped)-np.log(np.sqrt(np.array([2.0]))*sigma_clipped)\n",
    "        return metric"
   ]
  },
  {
   "cell_type": "code",
   "execution_count": 23,
   "metadata": {},
   "outputs": [],
   "source": [
    "def calcualte_metric_loss(y_true, y_pred, y_pred_std):\n",
    "    delta = np.clip(abs(y_true - y_pred), 0, 1000)\n",
    "    std_clipped = np.clip(y_pred_std, 70, np.inf)\n",
    "    return np.mean(-(np.sqrt(2)*delta/std_clipped) - np.log(np.sqrt(2)*std_clipped))"
   ]
  },
  {
   "cell_type": "markdown",
   "metadata": {},
   "source": [
    "Lasso"
   ]
  },
  {
   "cell_type": "code",
   "execution_count": 9,
   "metadata": {},
   "outputs": [],
   "source": [
    "from sklearn.linear_model import Lasso"
   ]
  },
  {
   "cell_type": "code",
   "execution_count": 10,
   "metadata": {},
   "outputs": [
    {
     "name": "stdout",
     "output_type": "stream",
     "text": [
      "The mean squared error (MSE) on test set: 119385.98019042597\n"
     ]
    }
   ],
   "source": [
    "la =Lasso()\n",
    "la.fit(X_train, y_train)\n",
    "y_pred = la.predict(X_test)\n",
    "mse = mean_squared_error(y_test, y_pred)\n",
    "print(\"The mean squared error (MSE) on test set: {}\".format(mse))"
   ]
  },
  {
   "cell_type": "code",
   "execution_count": 11,
   "metadata": {},
   "outputs": [
    {
     "data": {
      "text/plain": [
       "-8.802408666877405"
      ]
     },
     "execution_count": 11,
     "metadata": {},
     "output_type": "execute_result"
    }
   ],
   "source": [
    "Laso_metric=calcualte_metric_loss(y_pred,y_test,100)\n",
    "np.mean(Laso_metric)"
   ]
  },
  {
   "cell_type": "code",
   "execution_count": null,
   "metadata": {},
   "outputs": [],
   "source": []
  },
  {
   "cell_type": "markdown",
   "metadata": {},
   "source": [
    "RandomForestRegressor"
   ]
  },
  {
   "cell_type": "code",
   "execution_count": 12,
   "metadata": {},
   "outputs": [],
   "source": [
    "from sklearn.ensemble import RandomForestRegressor"
   ]
  },
  {
   "cell_type": "code",
   "execution_count": 13,
   "metadata": {},
   "outputs": [
    {
     "name": "stdout",
     "output_type": "stream",
     "text": [
      "The mean squared error (MSE) on test set: 44207.8847048387\n"
     ]
    }
   ],
   "source": [
    "rf =RandomForestRegressor()\n",
    "rf.fit(X_train, y_train)\n",
    "y_pred = rf.predict(X_test)\n",
    "mse = mean_squared_error(y_test, y_pred)\n",
    "print(\"The mean squared error (MSE) on test set: {}\".format(mse))"
   ]
  },
  {
   "cell_type": "code",
   "execution_count": 14,
   "metadata": {},
   "outputs": [
    {
     "data": {
      "text/plain": [
       "-7.214973607842983"
      ]
     },
     "execution_count": 14,
     "metadata": {},
     "output_type": "execute_result"
    }
   ],
   "source": [
    "rf_metric=calcualte_metric_loss(y_pred,y_test,100)\n",
    "np.mean(rf_metric)"
   ]
  },
  {
   "cell_type": "code",
   "execution_count": null,
   "metadata": {},
   "outputs": [],
   "source": []
  },
  {
   "cell_type": "code",
   "execution_count": null,
   "metadata": {},
   "outputs": [],
   "source": []
  },
  {
   "cell_type": "markdown",
   "metadata": {},
   "source": [
    "Gradient Boosting Regressor"
   ]
  },
  {
   "cell_type": "code",
   "execution_count": 15,
   "metadata": {},
   "outputs": [
    {
     "name": "stdout",
     "output_type": "stream",
     "text": [
      "The mean squared error (MSE) on test set: 46711.85622224618\n"
     ]
    }
   ],
   "source": [
    "params = {'n_estimators': 300,'max_depth': 5, 'learning_rate': 0.01}\n",
    "gb = GradientBoostingRegressor(**params)\n",
    "gb.fit(X_train, y_train)\n",
    "y_pred = gb.predict(X_test)\n",
    "mse = mean_squared_error(y_test, y_pred)\n",
    "print(\"The mean squared error (MSE) on test set: {}\".format(mse))"
   ]
  },
  {
   "cell_type": "code",
   "execution_count": 16,
   "metadata": {},
   "outputs": [
    {
     "data": {
      "text/plain": [
       "-7.444640665311055"
      ]
     },
     "execution_count": 16,
     "metadata": {},
     "output_type": "execute_result"
    }
   ],
   "source": [
    "gbr_metric=calcualte_metric_loss(y_pred,y_test,100)\n",
    "np.mean(gbr_metric)"
   ]
  },
  {
   "cell_type": "code",
   "execution_count": null,
   "metadata": {},
   "outputs": [],
   "source": []
  },
  {
   "cell_type": "markdown",
   "metadata": {},
   "source": [
    "XGB Regressor"
   ]
  },
  {
   "cell_type": "code",
   "execution_count": 17,
   "metadata": {},
   "outputs": [
    {
     "name": "stdout",
     "output_type": "stream",
     "text": [
      "The mean squared error (MSE) on test set: 70186.32159737773\n"
     ]
    }
   ],
   "source": [
    "from xgboost import XGBRegressor\n",
    "params = {'n_estimators': 300, 'max_depth': 5,'learning_rate': 0.01}\n",
    "xgb = XGBRegressor(**params)\n",
    "xgb.fit(X_train,y_train)\n",
    "y_pred = xgb.predict(X_test)\n",
    "mse = mean_squared_error(y_test, y_pred)\n",
    "print(\"The mean squared error (MSE) on test set: {}\".format(mse))"
   ]
  },
  {
   "cell_type": "code",
   "execution_count": 18,
   "metadata": {},
   "outputs": [
    {
     "data": {
      "text/plain": [
       "-7.9506582574991125"
      ]
     },
     "execution_count": 18,
     "metadata": {},
     "output_type": "execute_result"
    }
   ],
   "source": [
    "xgb_metric=calcualte_metric_loss(y_pred,y_test,100)\n",
    "np.mean(xgb_metric)"
   ]
  },
  {
   "cell_type": "code",
   "execution_count": null,
   "metadata": {},
   "outputs": [],
   "source": []
  },
  {
   "cell_type": "markdown",
   "metadata": {},
   "source": [
    "#final submission"
   ]
  },
  {
   "cell_type": "code",
   "execution_count": 19,
   "metadata": {},
   "outputs": [
    {
     "data": {
      "text/html": [
       "<div>\n",
       "<style scoped>\n",
       "    .dataframe tbody tr th:only-of-type {\n",
       "        vertical-align: middle;\n",
       "    }\n",
       "\n",
       "    .dataframe tbody tr th {\n",
       "        vertical-align: top;\n",
       "    }\n",
       "\n",
       "    .dataframe thead th {\n",
       "        text-align: right;\n",
       "    }\n",
       "</style>\n",
       "<table border=\"1\" class=\"dataframe\">\n",
       "  <thead>\n",
       "    <tr style=\"text-align: right;\">\n",
       "      <th></th>\n",
       "      <th>Sex</th>\n",
       "      <th>SmokingStatus</th>\n",
       "      <th>Weeks</th>\n",
       "      <th>Percent</th>\n",
       "      <th>Age</th>\n",
       "    </tr>\n",
       "  </thead>\n",
       "  <tbody>\n",
       "    <tr>\n",
       "      <th>0</th>\n",
       "      <td>0.0</td>\n",
       "      <td>0.0</td>\n",
       "      <td>-0.444053</td>\n",
       "      <td>-1.306936</td>\n",
       "      <td>0.618853</td>\n",
       "    </tr>\n",
       "    <tr>\n",
       "      <th>1</th>\n",
       "      <td>0.0</td>\n",
       "      <td>0.0</td>\n",
       "      <td>0.983260</td>\n",
       "      <td>1.360182</td>\n",
       "      <td>-1.959700</td>\n",
       "    </tr>\n",
       "    <tr>\n",
       "      <th>2</th>\n",
       "      <td>0.0</td>\n",
       "      <td>0.0</td>\n",
       "      <td>-0.444053</td>\n",
       "      <td>0.151769</td>\n",
       "      <td>0.618853</td>\n",
       "    </tr>\n",
       "    <tr>\n",
       "      <th>3</th>\n",
       "      <td>0.0</td>\n",
       "      <td>0.0</td>\n",
       "      <td>1.300441</td>\n",
       "      <td>0.733487</td>\n",
       "      <td>0.103142</td>\n",
       "    </tr>\n",
       "    <tr>\n",
       "      <th>4</th>\n",
       "      <td>0.0</td>\n",
       "      <td>1.0</td>\n",
       "      <td>-1.395595</td>\n",
       "      <td>-0.938503</td>\n",
       "      <td>0.618853</td>\n",
       "    </tr>\n",
       "  </tbody>\n",
       "</table>\n",
       "</div>"
      ],
      "text/plain": [
       "   Sex  SmokingStatus     Weeks   Percent       Age\n",
       "0  0.0            0.0 -0.444053 -1.306936  0.618853\n",
       "1  0.0            0.0  0.983260  1.360182 -1.959700\n",
       "2  0.0            0.0 -0.444053  0.151769  0.618853\n",
       "3  0.0            0.0  1.300441  0.733487  0.103142\n",
       "4  0.0            1.0 -1.395595 -0.938503  0.618853"
      ]
     },
     "execution_count": 19,
     "metadata": {},
     "output_type": "execute_result"
    }
   ],
   "source": [
    "df_test = pd.concat([df1_category, df1_numerical], axis = 1)\n",
    "df_test"
   ]
  },
  {
   "cell_type": "code",
   "execution_count": 20,
   "metadata": {},
   "outputs": [
    {
     "data": {
      "text/plain": [
       "array([1186.34422768, 2982.47918531, 1774.70008256, 1948.60762207,\n",
       "       1520.43506048])"
      ]
     },
     "execution_count": 20,
     "metadata": {},
     "output_type": "execute_result"
    }
   ],
   "source": [
    "y_pred_score = gb.predict(df_test)\n",
    "y_pred_score"
   ]
  },
  {
   "cell_type": "code",
   "execution_count": 21,
   "metadata": {},
   "outputs": [],
   "source": [
    "pred = pd.DataFrame(y_pred_score,columns = ['FVC'])\n",
    "pred['Confidence'] = pred['FVC'].std()"
   ]
  },
  {
   "cell_type": "code",
   "execution_count": 22,
   "metadata": {},
   "outputs": [
    {
     "data": {
      "text/html": [
       "<div>\n",
       "<style scoped>\n",
       "    .dataframe tbody tr th:only-of-type {\n",
       "        vertical-align: middle;\n",
       "    }\n",
       "\n",
       "    .dataframe tbody tr th {\n",
       "        vertical-align: top;\n",
       "    }\n",
       "\n",
       "    .dataframe thead th {\n",
       "        text-align: right;\n",
       "    }\n",
       "</style>\n",
       "<table border=\"1\" class=\"dataframe\">\n",
       "  <thead>\n",
       "    <tr style=\"text-align: right;\">\n",
       "      <th></th>\n",
       "      <th>FVC</th>\n",
       "      <th>Confidence</th>\n",
       "    </tr>\n",
       "  </thead>\n",
       "  <tbody>\n",
       "    <tr>\n",
       "      <th>0</th>\n",
       "      <td>1186.344228</td>\n",
       "      <td>678.540553</td>\n",
       "    </tr>\n",
       "    <tr>\n",
       "      <th>1</th>\n",
       "      <td>2982.479185</td>\n",
       "      <td>678.540553</td>\n",
       "    </tr>\n",
       "    <tr>\n",
       "      <th>2</th>\n",
       "      <td>1774.700083</td>\n",
       "      <td>678.540553</td>\n",
       "    </tr>\n",
       "    <tr>\n",
       "      <th>3</th>\n",
       "      <td>1948.607622</td>\n",
       "      <td>678.540553</td>\n",
       "    </tr>\n",
       "    <tr>\n",
       "      <th>4</th>\n",
       "      <td>1520.435060</td>\n",
       "      <td>678.540553</td>\n",
       "    </tr>\n",
       "  </tbody>\n",
       "</table>\n",
       "</div>"
      ],
      "text/plain": [
       "           FVC  Confidence\n",
       "0  1186.344228  678.540553\n",
       "1  2982.479185  678.540553\n",
       "2  1774.700083  678.540553\n",
       "3  1948.607622  678.540553\n",
       "4  1520.435060  678.540553"
      ]
     },
     "execution_count": 22,
     "metadata": {},
     "output_type": "execute_result"
    }
   ],
   "source": [
    "pred"
   ]
  },
  {
   "cell_type": "code",
   "execution_count": null,
   "metadata": {},
   "outputs": [],
   "source": []
  }
 ],
 "metadata": {
  "kernelspec": {
   "display_name": "Python 3",
   "language": "python",
   "name": "python3"
  },
  "language_info": {
   "codemirror_mode": {
    "name": "ipython",
    "version": 3
   },
   "file_extension": ".py",
   "mimetype": "text/x-python",
   "name": "python",
   "nbconvert_exporter": "python",
   "pygments_lexer": "ipython3",
   "version": "3.8.8"
  }
 },
 "nbformat": 4,
 "nbformat_minor": 4
}
